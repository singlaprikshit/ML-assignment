{
 "cells": [
  {
   "cell_type": "code",
   "execution_count": 1,
   "metadata": {},
   "outputs": [
    {
     "name": "stdout",
     "output_type": "stream",
     "text": [
      "0.0303030303030303\n"
     ]
    }
   ],
   "source": [
    "#Question 1\n",
    "A=11/36\n",
    "B=6/36\n",
    "AB=2/36\n",
    "def prob(A,B,AB):\n",
    "    BA=(AB*B)/A\n",
    "    return BA\n",
    "P=prob(A,B,AB)\n",
    "print(P)"
   ]
  },
  {
   "cell_type": "code",
   "execution_count": 5,
   "metadata": {},
   "outputs": [
    {
     "name": "stdout",
     "output_type": "stream",
     "text": [
      "0.5833333333333334\n"
     ]
    }
   ],
   "source": [
    "#Question 3\n",
    "b1 = b2 =1/2\n",
    "B1 = 6/10\n",
    "B2 = 3/7\n",
    "def prob(b1 ,b2, B1, B2):\n",
    "    BB1 = b1 * B1 / (b1 * B1 + b2* B2) \n",
    "    return BB1\n",
    "P=prob(b1 ,b2, B1, B2)\n",
    "print(P)"
   ]
  },
  {
   "cell_type": "code",
   "execution_count": 8,
   "metadata": {},
   "outputs": [
    {
     "name": "stdout",
     "output_type": "stream",
     "text": [
      "0.2857142857142857\n"
     ]
    }
   ],
   "source": [
    "#Question 3\n",
    "T = 2/3\n",
    "L = 1/3\n",
    "Four = 1/6\n",
    "NotFour = 5/6\n",
    "def prob(T,L,Four,NotFour):\n",
    "    TF = Four * T / (T*Four + L*NotFour)\n",
    "    return TF\n",
    "P= prob(T,L,Four,NotFour)\n",
    "print(P)"
   ]
  },
  {
   "cell_type": "code",
   "execution_count": null,
   "metadata": {},
   "outputs": [],
   "source": []
  }
 ],
 "metadata": {
  "kernelspec": {
   "display_name": "Python 3",
   "language": "python",
   "name": "python3"
  },
  "language_info": {
   "codemirror_mode": {
    "name": "ipython",
    "version": 3
   },
   "file_extension": ".py",
   "mimetype": "text/x-python",
   "name": "python",
   "nbconvert_exporter": "python",
   "pygments_lexer": "ipython3",
   "version": "3.6.5"
  }
 },
 "nbformat": 4,
 "nbformat_minor": 2
}
